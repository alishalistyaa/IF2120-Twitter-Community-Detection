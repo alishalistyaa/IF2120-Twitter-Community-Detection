{
  "nbformat": 4,
  "nbformat_minor": 0,
  "metadata": {
    "colab": {
      "provenance": [],
      "authorship_tag": "ABX9TyNUIAVTdCsDTCnevo7EStY2",
      "include_colab_link": true
    },
    "kernelspec": {
      "name": "python3",
      "display_name": "Python 3"
    },
    "language_info": {
      "name": "python"
    }
  },
  "cells": [
    {
      "cell_type": "markdown",
      "metadata": {
        "id": "view-in-github",
        "colab_type": "text"
      },
      "source": [
        "<a href=\"https://colab.research.google.com/github/alishalistyaa/IF2120-Twitter-Community-Detection/blob/crawler/twitter_crawler.ipynb\" target=\"_parent\"><img src=\"https://colab.research.google.com/assets/colab-badge.svg\" alt=\"Open In Colab\"/></a>"
      ]
    },
    {
      "cell_type": "markdown",
      "source": [
        "# **Setup**"
      ],
      "metadata": {
        "id": "MjbBKssiDL9Z"
      }
    },
    {
      "cell_type": "code",
      "execution_count": 1,
      "metadata": {
        "colab": {
          "base_uri": "https://localhost:8080/"
        },
        "id": "8U9cd5xFB-hF",
        "outputId": "122f0b8e-5463-4480-9fda-eebf2442161c"
      },
      "outputs": [
        {
          "output_type": "stream",
          "name": "stdout",
          "text": [
            "Looking in indexes: https://pypi.org/simple, https://us-python.pkg.dev/colab-wheels/public/simple/\n",
            "Collecting jsonpickle\n",
            "  Downloading jsonpickle-3.0.0-py2.py3-none-any.whl (40 kB)\n",
            "\u001b[K     |████████████████████████████████| 40 kB 919 kB/s \n",
            "\u001b[?25hInstalling collected packages: jsonpickle\n",
            "Successfully installed jsonpickle-3.0.0\n"
          ]
        }
      ],
      "source": [
        "! pip install jsonpickle"
      ]
    },
    {
      "cell_type": "code",
      "source": [
        "import tweepy\n",
        "import sys\n",
        "import jsonpickle"
      ],
      "metadata": {
        "id": "uWykb5pCDzOy"
      },
      "execution_count": 2,
      "outputs": []
    },
    {
      "cell_type": "code",
      "source": [
        "consumer_key = 'CxVgnV0SrFLdckeOROZN6mKHP'\n",
        "consumer_secret = 'nX8hG2AaGCYsM6tqORYabKU734e5QYanA3tBXzRRgpjXO7ApgU'\n",
        "bearer_token = 'AAAAAAAAAAAAAAAAAAAAAOkNkQEAAAAAi5uKLUHFb8k7OErbI9UDyVsFKMg%3DMLCFgmLkfBN5fisiifHrgFOrRyabFk4bb3cN4Wk36kj5yvaonO'\n",
        "auth = tweepy.AppAuthHandler(consumer_key,consumer_secret)\n",
        "api = tweepy.API(auth)"
      ],
      "metadata": {
        "id": "BC8_QGUZD2sR"
      },
      "execution_count": 3,
      "outputs": []
    },
    {
      "cell_type": "markdown",
      "source": [
        "Crawling the Data\n",
        "\n"
      ],
      "metadata": {
        "id": "urLsh1pEFAyB"
      }
    },
    {
      "cell_type": "code",
      "source": [
        "qry='#FIFAWorldCup'             # Query yang dicari\n",
        "maxTweets =  5000               # max tweet yg dicari\n",
        "tweetsPerQry = 100              # <101, tidak boleh oleh Twitter\n",
        "fName='#FIFAWorldCup.json'      # Nama File hasil Crawling\n",
        "max_id, tweetCount = -1, 0"
      ],
      "metadata": {
        "id": "5iZ6LQP1FED_"
      },
      "execution_count": 4,
      "outputs": []
    },
    {
      "cell_type": "code",
      "source": [
        "print(\"Mengunduh maksimum {0} tweets\".format(maxTweets))\n",
        "with open(fName,'w') as f:\n",
        "    while tweetCount < maxTweets:\n",
        "        if (max_id <= 0):\n",
        "            new_tweets=api.search(q=qry,count=tweetsPerQry)\n",
        "        else:\n",
        "            new_tweets=api.search(q=qry,count=tweetsPerQry,max_id=str(max_id - 1))\n",
        "        if not new_tweets:\n",
        "            print('\\nTidak ditemukan lagi tweet dengan Query=\"{0}\"'.format(qry));break\n",
        "        for tweet in new_tweets:\n",
        "            f.write(jsonpickle.encode(tweet._json,unpicklable=False)+'\\n')\n",
        "        tweetCount+=len(new_tweets)\n",
        "        sys.stdout.write(\"\\r\");sys.stdout.write(\"Tweets tersimpan: %.0f\" %tweetCount);sys.stdout.flush()\n",
        "        max_id=new_tweets[-1].id\n",
        "print ('\\nSelesai! {0} tweets tersimpan di \"{1}\"'.format(tweetCount,fName))"
      ],
      "metadata": {
        "colab": {
          "base_uri": "https://localhost:8080/"
        },
        "id": "E8YGS8svFQQs",
        "outputId": "c7e5e7e4-2934-41d1-99b8-63c0fbde7e4e"
      },
      "execution_count": 5,
      "outputs": [
        {
          "output_type": "stream",
          "name": "stdout",
          "text": [
            "Mengunduh maksimum 5000 tweets\n",
            "Tweets tersimpan: 5095\n",
            "Selesai! 5095 tweets tersimpan di \"#FIFAWorldCup.json\"\n"
          ]
        }
      ]
    }
  ]
}